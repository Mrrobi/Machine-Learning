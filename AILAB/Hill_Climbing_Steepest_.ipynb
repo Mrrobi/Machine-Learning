{
  "nbformat": 4,
  "nbformat_minor": 0,
  "metadata": {
    "colab": {
      "name": "Hill Climbing Steepest .ipynb",
      "provenance": [],
      "authorship_tag": "ABX9TyO3HpqMeEe35v6Ra6rYmn8H",
      "include_colab_link": true
    },
    "kernelspec": {
      "name": "python3",
      "display_name": "Python 3"
    },
    "accelerator": "GPU"
  },
  "cells": [
    {
      "cell_type": "markdown",
      "metadata": {
        "id": "view-in-github",
        "colab_type": "text"
      },
      "source": [
        "<a href=\"https://colab.research.google.com/github/Mrrobi/Machine-Learning/blob/master/AILAB/Hill_Climbing_Steepest_.ipynb\" target=\"_parent\"><img src=\"https://colab.research.google.com/assets/colab-badge.svg\" alt=\"Open In Colab\"/></a>"
      ]
    },
    {
      "cell_type": "code",
      "metadata": {
        "id": "AcMM0D1Juugm",
        "colab_type": "code",
        "colab": {}
      },
      "source": [
        "import random as r\n",
        "#Initializing a list\n",
        "count = 0\n",
        "def init():\n",
        "  return r.sample(range(1,10000),10)\n",
        "  #return [11,2,4,7,5,13,12,1,0]"
      ],
      "execution_count": null,
      "outputs": []
    },
    {
      "cell_type": "code",
      "metadata": {
        "id": "Vl7bqg5P82oI",
        "colab_type": "code",
        "colab": {}
      },
      "source": [
        "#State cost calculation function\n",
        "def cost_calc(list):\n",
        "  cost=0\n",
        "  for i in range(0,len(list),1):\n",
        "    small=0\n",
        "    for j in range(i+1,len(list),1):\n",
        "      if(list[i]>list[j]):\n",
        "        #print(f\"{list[i]} is greater than {list[j]}\")\n",
        "        small+=1\n",
        "    cost+=small\n",
        "  return cost\n"
      ],
      "execution_count": null,
      "outputs": []
    },
    {
      "cell_type": "code",
      "metadata": {
        "id": "v0VaF_3IBKio",
        "colab_type": "code",
        "colab": {}
      },
      "source": [
        "# list = [1,2,5,0,8,4]\n",
        "# for i in range(0,len(list)):\n",
        "#   for j in range(i+1,len(list)):\n",
        "#     list[i],list[j] = list[j],list[i]\n",
        "#     print(list)"
      ],
      "execution_count": null,
      "outputs": []
    },
    {
      "cell_type": "code",
      "metadata": {
        "id": "EWXDvufEKsWw",
        "colab_type": "code",
        "colab": {}
      },
      "source": [
        "#State genaration function\n",
        "\n",
        "def state_gen(curr_state,curr_state_cost):\n",
        "  smaller_list=[]\n",
        "  smaller_cost= 100000\n",
        "  global count\n",
        "  for i in range(0,len(curr_state),1):\n",
        "    for j in range(i+1,len(curr_state),1):\n",
        "      new_state = curr_state.copy()\n",
        "      temp = new_state[i]\n",
        "      new_state[i]=new_state[j]\n",
        "      new_state[j]=temp\n",
        "      #print(f\"{new_state}  count:{count}\")\n",
        "      count+=1\n",
        "      if(cost_calc(new_state)<smaller_cost):\n",
        "        smaller_list = new_state\n",
        "        smaller_cost = cost_calc(new_state)\n",
        "  if(cost_calc(smaller_list)<curr_state_cost):\n",
        "    return smaller_list,smaller_cost\n",
        "  else:\n",
        "    return curr_state,None\n",
        "  "
      ],
      "execution_count": null,
      "outputs": []
    },
    {
      "cell_type": "code",
      "metadata": {
        "id": "xxklEVZZBjaT",
        "colab_type": "code",
        "colab": {}
      },
      "source": [
        "#Goal Test Function\n",
        "def goal_test(state):\n",
        "  if(cost_calc(state)==0):\n",
        "    return True\n",
        "  else:\n",
        "    return False"
      ],
      "execution_count": null,
      "outputs": []
    },
    {
      "cell_type": "code",
      "metadata": {
        "colab_type": "code",
        "id": "gTQmHu9-Rksj",
        "colab": {
          "base_uri": "https://localhost:8080/",
          "height": 34
        },
        "outputId": "71ab248e-1391-4371-8c3f-98610f798d16"
      },
      "source": [
        "#Sorting Loop\n",
        "state = init()\n",
        "cost = cost_calc(state)\n",
        "while(not goal_test(state)):\n",
        "  state , cost = state_gen(state,cost)\n",
        "  if(cost == None):\n",
        "    print(state)\n",
        "    exit()\n",
        "print(state)"
      ],
      "execution_count": null,
      "outputs": [
        {
          "output_type": "stream",
          "text": [
            "[615, 839, 1895, 2253, 2875, 4063, 5547, 5551, 6989, 8559]\n"
          ],
          "name": "stdout"
        }
      ]
    }
  ]
}