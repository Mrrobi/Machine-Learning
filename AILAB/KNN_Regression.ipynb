{
  "nbformat": 4,
  "nbformat_minor": 0,
  "metadata": {
    "colab": {
      "name": "KNN Regression.ipynb",
      "provenance": [],
      "mount_file_id": "152ttQpaiw19gs_SZcTGelXXHpDQzd90s",
      "authorship_tag": "ABX9TyNGr/iN8t9soFcuNTbKYq9Z",
      "include_colab_link": true
    },
    "kernelspec": {
      "name": "python3",
      "display_name": "Python 3"
    }
  },
  "cells": [
    {
      "cell_type": "markdown",
      "metadata": {
        "id": "view-in-github",
        "colab_type": "text"
      },
      "source": [
        "<a href=\"https://colab.research.google.com/github/Mrrobi/Machine-Learning/blob/master/AILAB/KNN_Regression.ipynb\" target=\"_parent\"><img src=\"https://colab.research.google.com/assets/colab-badge.svg\" alt=\"Open In Colab\"/></a>"
      ]
    },
    {
      "cell_type": "code",
      "metadata": {
        "id": "Je0zlM5wOVM1",
        "colab_type": "code",
        "colab": {}
      },
      "source": [
        "from google.colab import drive\n",
        "drive.mount('/content/gdrive')"
      ],
      "execution_count": null,
      "outputs": []
    },
    {
      "cell_type": "code",
      "metadata": {
        "id": "3B2259MfdDKY",
        "colab_type": "code",
        "colab": {}
      },
      "source": [
        "from numpy import genfromtxt\n",
        "import random\n",
        "from random import random\n",
        "from scipy.spatial import distance\n",
        "import operator\n",
        "import math as m\n",
        "def load_dataset(path):\n",
        "  return genfromtxt(path, delimiter=',')\n"
      ],
      "execution_count": null,
      "outputs": []
    },
    {
      "cell_type": "code",
      "metadata": {
        "id": "USLdFHiCPPbm",
        "colab_type": "code",
        "colab": {}
      },
      "source": [
        "data = '/content/drive/My Drive/ALLAB/KNN/Clasification/Diabetes.csv'\n",
        "dataset = load_dataset(data)"
      ],
      "execution_count": null,
      "outputs": []
    },
    {
      "cell_type": "code",
      "metadata": {
        "id": "u-MgG4NYc0va",
        "colab_type": "code",
        "colab": {}
      },
      "source": [
        "DataList = dataset.tolist()\n",
        "for x in DataList:\n",
        "  for y in range(len(x)):\n",
        "    z = float(x[y])\n",
        "    if m.isnan(z):\n",
        "      x[y] = 0\n",
        "#random.shuffle(DataList)\n",
        "#print(DataList)"
      ],
      "execution_count": null,
      "outputs": []
    },
    {
      "cell_type": "code",
      "metadata": {
        "id": "7NyApvA1oaUq",
        "colab_type": "code",
        "colab": {
          "base_uri": "https://localhost:8080/",
          "height": 70
        },
        "outputId": "203b43a8-7ef3-4bfc-f348-52488ea1421d"
      },
      "source": [
        "Train_set=[]\n",
        "Val_set=[]\n",
        "Test_set=[]\n",
        "for x in DataList:\n",
        "  R = random()\n",
        "  if R >= 0 and R <= 0.7:\n",
        "    Train_set.append(x)\n",
        "  elif R >= 0.7 and R <= 0.85:\n",
        "    Val_set.append(x)\n",
        "  else:\n",
        "    Test_set.append(x)\n",
        "print(len(Train_set))\n",
        "print(len(Val_set))\n",
        "print(len(Test_set))"
      ],
      "execution_count": null,
      "outputs": [
        {
          "output_type": "stream",
          "text": [
            "286\n",
            "70\n",
            "86\n"
          ],
          "name": "stdout"
        }
      ]
    },
    {
      "cell_type": "code",
      "metadata": {
        "id": "WP_1nyxeSv-X",
        "colab_type": "code",
        "colab": {}
      },
      "source": [
        "def validation(k):\n",
        "  correct = 0\n",
        "  error = 0\n",
        "  for s in Val_set:\n",
        "    ValueDict = {}\n",
        "    for v in Train_set:\n",
        "      ed = distance.euclidean(s[0:(len(s)-1)], v[0:(len(v)-1)])\n",
        "      ValueDict[ed] = v[-1]\n",
        "    sorted_L = sorted(ValueDict.keys())\n",
        "    count = 1\n",
        "    total_val = 0.0\n",
        "    for x in sorted_L:\n",
        "      total_val = total_val + ValueDict[x]\n",
        "      count = count + 1\n",
        "      if(count > k):\n",
        "        break\n",
        "    val = total_val/k\n",
        "    error = error + (s[-1] - val)**2\n",
        "    if(int(s[-1]) == val):\n",
        "      correct = correct + 1\n",
        "  accuracy = (error/len(Val_set))\n",
        "  return accuracy"
      ],
      "execution_count": null,
      "outputs": []
    },
    {
      "cell_type": "code",
      "metadata": {
        "id": "5eaA68PCeNG2",
        "colab_type": "code",
        "colab": {
          "base_uri": "https://localhost:8080/",
          "height": 354
        },
        "outputId": "d81c79a8-c4fb-445d-e34e-f2983e0dbaef"
      },
      "source": [
        "for x in range(5,100,5):\n",
        "  print(f\"{x} -> {validation(x)}\")"
      ],
      "execution_count": null,
      "outputs": [
        {
          "output_type": "stream",
          "text": [
            "5 -> 3735.8731428571427\n",
            "10 -> 3446.600285714286\n",
            "15 -> 3496.424444444445\n",
            "20 -> 3310.732142857142\n",
            "25 -> 3409.2413028571436\n",
            "30 -> 3382.7236984126985\n",
            "35 -> 3407.64149271137\n",
            "40 -> 3325.486017857142\n",
            "45 -> 3394.1287266313934\n",
            "50 -> 3436.2645085714285\n",
            "55 -> 3424.771778040142\n",
            "60 -> 3478.8293134920636\n",
            "65 -> 3531.8836314454784\n",
            "70 -> 3628.6463819241976\n",
            "75 -> 3693.479083174604\n",
            "80 -> 3768.708017857143\n",
            "85 -> 3836.8553850716753\n",
            "90 -> 3844.7709929453267\n",
            "95 -> 3892.90905263158\n"
          ],
          "name": "stdout"
        }
      ]
    },
    {
      "cell_type": "code",
      "metadata": {
        "id": "rj3n-dnBmZ8W",
        "colab_type": "code",
        "colab": {}
      },
      "source": [
        "k= 5\n",
        "correct = 0\n",
        "error = 0\n",
        "for s in Test_set:\n",
        "  ValueDict = {}\n",
        "  for v in Train_set:\n",
        "    ed = distance.euclidean(s[0:(len(s)-1)], v[0:(len(v)-1)])\n",
        "    ValueDict[ed] = v[-1]\n",
        "  sorted_L = sorted(ValueDict.keys())\n",
        "  count = 1\n",
        "  total_val = 0.0\n",
        "  for x in sorted_L:\n",
        "    total_val = total_val + ValueDict[x]\n",
        "    count = count + 1\n",
        "    if(count > k):\n",
        "      break\n",
        "  val = total_val/k\n",
        "  error = error + (s[-1] - val)**2\n",
        "  if(int(s[-1]) == val):\n",
        "    correct = correct + 1\n",
        "accuracy = (error/len(Val_set))\n",
        "print(accuracy)"
      ],
      "execution_count": null,
      "outputs": []
    }
  ]
}