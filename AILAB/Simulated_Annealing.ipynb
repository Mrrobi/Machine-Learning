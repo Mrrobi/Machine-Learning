{
  "nbformat": 4,
  "nbformat_minor": 0,
  "metadata": {
    "colab": {
      "name": "Simulated Annealing.ipynb",
      "provenance": [],
      "include_colab_link": true
    },
    "kernelspec": {
      "name": "python3",
      "display_name": "Python 3"
    },
    "accelerator": "GPU"
  },
  "cells": [
    {
      "cell_type": "markdown",
      "metadata": {
        "id": "view-in-github",
        "colab_type": "text"
      },
      "source": [
        "<a href=\"https://colab.research.google.com/github/Mrrobi/Machine-Learning/blob/master/AILAB/Simulated_Annealing.ipynb\" target=\"_parent\"><img src=\"https://colab.research.google.com/assets/colab-badge.svg\" alt=\"Open In Colab\"/></a>"
      ]
    },
    {
      "cell_type": "code",
      "metadata": {
        "id": "Ohhz7TZDBe-f",
        "colab_type": "code",
        "colab": {
          "base_uri": "https://localhost:8080/",
          "height": 34
        },
        "outputId": "3ba42a80-623c-492d-f8c0-a2a240d4ecc4"
      },
      "source": [
        "import random as r\n",
        "from random import randint\n",
        "from random import seed\n",
        "import time as t\n",
        "import math as m\n",
        "\n",
        "print(r.random())\n",
        "seed(t.time())\n",
        "count = 0\n",
        "def init():\n",
        "  return r.sample(range(1,10000),15)\n",
        "#randint(0,100),randint(0,100),randint(0,9)"
      ],
      "execution_count": null,
      "outputs": [
        {
          "output_type": "stream",
          "text": [
            "0.1397183465599363\n"
          ],
          "name": "stdout"
        }
      ]
    },
    {
      "cell_type": "code",
      "metadata": {
        "id": "UZH9B7BgV5YZ",
        "colab_type": "code",
        "colab": {}
      },
      "source": [
        "#State cost calculation function\n",
        "def cost_calc(list):\n",
        "  cost=0\n",
        "  for i in range(0,len(list),1):\n",
        "    small=0\n",
        "    for j in range(i+1,len(list),1):\n",
        "      if(list[i]>list[j]):\n",
        "        #print(f\"{list[i]} is greater than {list[j]}\")\n",
        "        small+=1\n",
        "    cost+=small\n",
        "  return cost"
      ],
      "execution_count": null,
      "outputs": []
    },
    {
      "cell_type": "code",
      "metadata": {
        "id": "3PBc7vk7ZmA7",
        "colab_type": "code",
        "colab": {}
      },
      "source": [
        "#shedule funtion\n",
        "def shedule(t):\n",
        "  return t*0.99995\n",
        "\n",
        "# t = 1000\n",
        "# for i in range(110):\n",
        "#   t = shedule(t)\n",
        "#   print(t)"
      ],
      "execution_count": null,
      "outputs": []
    },
    {
      "cell_type": "code",
      "metadata": {
        "id": "2DJIEQUyV9FJ",
        "colab_type": "code",
        "colab": {}
      },
      "source": [
        "#State genaration function\n",
        "def state_gen(curr_state,curr_state_cost):\n",
        "  global count\n",
        "  #T=5000;\n",
        "  while True:\n",
        "    # T = shedule(T)\n",
        "    # if(T<1):\n",
        "    #   break\n",
        "    new_state = curr_state.copy()\n",
        "    i = randint(0,len(new_state)-1)\n",
        "    j = randint(0,len(new_state)-1)\n",
        "    new_state[i],new_state[j] = new_state[j],new_state[i]\n",
        "    #print(f\"{new_state}  count:{count}\")\n",
        "    count+=1\n",
        "    E = cost_calc(curr_state)-cost_calc(new_state)\n",
        "    if(E==0):\n",
        "      E=-1\n",
        "    if(E>0):\n",
        "      curr_state = new_state.copy()\n",
        "      continue\n",
        "    \n",
        "    porb = m.e**(E)\n",
        "    ran = r.random()\n",
        "    if(ran>0 and ran<=porb):\n",
        "      curr_state = new_state.copy()\n",
        "    if(cost_calc(curr_state)==0):\n",
        "      break\n",
        "  #return curr_state,cost_calc(curr_state) \n",
        "  return curr_state,None"
      ],
      "execution_count": null,
      "outputs": []
    },
    {
      "cell_type": "code",
      "metadata": {
        "id": "ppvkI13TV_nr",
        "colab_type": "code",
        "colab": {}
      },
      "source": [
        "#Goal Test Function\n",
        "def goal_test(state):\n",
        "  if(cost_calc(state)==0):\n",
        "    return True\n",
        "  else:\n",
        "    return False"
      ],
      "execution_count": null,
      "outputs": []
    },
    {
      "cell_type": "code",
      "metadata": {
        "colab_type": "code",
        "id": "6uf6-beUqmNv",
        "colab": {
          "base_uri": "https://localhost:8080/",
          "height": 51
        },
        "outputId": "bb2232f1-b1f0-41c2-ed3b-95a7020db925"
      },
      "source": [
        "#Sorting Loop\n",
        "state = init()\n",
        "cost = cost_calc(state)\n",
        "while(not goal_test(state)):\n",
        "  state , cost = state_gen(state,cost)\n",
        "  if(cost == None):\n",
        "    print(f\"{state}   Count: {count}\")\n",
        "    break\n",
        "print(state)"
      ],
      "execution_count": null,
      "outputs": [
        {
          "output_type": "stream",
          "text": [
            "[947, 1355, 1842, 1934, 2840, 2920, 3363, 5429, 5556, 6603, 7801, 8312, 8616, 9263, 9790]   Count: 1188\n",
            "[947, 1355, 1842, 1934, 2840, 2920, 3363, 5429, 5556, 6603, 7801, 8312, 8616, 9263, 9790]\n"
          ],
          "name": "stdout"
        }
      ]
    }
  ]
}