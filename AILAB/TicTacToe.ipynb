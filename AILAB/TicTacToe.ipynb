{
  "nbformat": 4,
  "nbformat_minor": 0,
  "metadata": {
    "colab": {
      "name": "TicTacToe",
      "provenance": [],
      "authorship_tag": "ABX9TyO27d5OraPenTpt8lItOQWZ",
      "include_colab_link": true
    },
    "kernelspec": {
      "name": "python3",
      "display_name": "Python 3"
    }
  },
  "cells": [
    {
      "cell_type": "markdown",
      "metadata": {
        "id": "view-in-github",
        "colab_type": "text"
      },
      "source": [
        "<a href=\"https://colab.research.google.com/github/Mrrobi/Machine-Learning/blob/master/AILAB/TicTacToe.ipynb\" target=\"_parent\"><img src=\"https://colab.research.google.com/assets/colab-badge.svg\" alt=\"Open In Colab\"/></a>"
      ]
    },
    {
      "cell_type": "code",
      "metadata": {
        "id": "7ZO5d-Rs1M0k",
        "colab_type": "code",
        "colab": {}
      },
      "source": [
        "#min-max algo\n",
        "from copy import copy, deepcopy\n",
        "import os as o\n",
        "global humanTurn,turnCounts\n",
        "humanTurn = True\n",
        "turnCounts = 0;\n",
        "\n",
        "# checks win \n",
        "def check_win(board):\n",
        "  for x in range(3):\n",
        "    if(board[x][0] == board[x][1] and board[x][0] == board[x][2] and board[x][0] == 2):\n",
        "      return 2\n",
        "    if(board[0][x] == board[1][x] and board[0][x] == board[2][x] and board[0][x] == 2):\n",
        "      return 2\n",
        "  if(board[0][0] == board[1][1] and board[0][0] == board[2][2] and board[0][0] == 2):\n",
        "      return 2\n",
        "  if(board[0][2] == board[1][1] and board[0][2] == board[2][0] and board[0][2] == 2):\n",
        "      return 2\n",
        "\n",
        "  for x in range(3):\n",
        "    if(board[x][0] == board[x][1] and board[x][0] == board[x][2] and board[x][0] == 1):\n",
        "      return 1\n",
        "    if(board[0][x] == board[1][x] and board[0][x] == board[2][x] and board[0][x] == 1):\n",
        "      return 1\n",
        "  if(board[0][0] == board[1][1] and board[0][0] == board[2][2] and board[0][0] == 1):\n",
        "      return 1\n",
        "  if(board[0][2] == board[1][1] and board[0][2] == board[2][0] and board[0][2] == 1):\n",
        "      return 1\n",
        "  \n",
        "  check_zero = 0\n",
        "  for i in range(3):\n",
        "    for j in range(3):\n",
        "      if(board[i][j] == 0):\n",
        "        check_zero = 1\n",
        "        break\n",
        "  if(check_zero == 0):\n",
        "    return 0\n",
        "  else:\n",
        "    return 3"
      ],
      "execution_count": null,
      "outputs": []
    },
    {
      "cell_type": "code",
      "metadata": {
        "id": "HrifQjzXkOxr",
        "colab_type": "code",
        "colab": {}
      },
      "source": [
        "def utility(board, depth):\n",
        "  var = check_win(board)\n",
        "  if(var == 1):\n",
        "    return 1/depth\n",
        "  elif(var == 2):\n",
        "    return -1\n",
        "  elif(var == 0):\n",
        "    return 0"
      ],
      "execution_count": null,
      "outputs": []
    },
    {
      "cell_type": "code",
      "metadata": {
        "id": "Ak7bL_gokNVa",
        "colab_type": "code",
        "colab": {}
      },
      "source": [
        "def max_algo(board, depth):\n",
        "  var = check_win(board)\n",
        "  if(var == 1 or var == 2 or var == 0):\n",
        "    return utility(board, depth)\n",
        "  util = -100000\n",
        "  for i in range(3):\n",
        "    for j in range(3):\n",
        "      if(board[i][j] == 0):\n",
        "        extraBoard = deepcopy(board)\n",
        "        extraBoard[i][j] = 1\n",
        "        util = max(util, min_algo(deepcopy(extraBoard), depth+1))\n",
        "  return util"
      ],
      "execution_count": null,
      "outputs": []
    },
    {
      "cell_type": "code",
      "metadata": {
        "id": "_E1iGSnHkL1u",
        "colab_type": "code",
        "colab": {}
      },
      "source": [
        "def min_algo(board, depth):\n",
        "  var = check_win(board)\n",
        "  if(var == 1 or var == 2 or var == 0):\n",
        "    return utility(board, depth)\n",
        "  util = +100000\n",
        "  for i in range(3):\n",
        "    for j in range(3):\n",
        "      if(board[i][j] == 0):\n",
        "        extraBoard = deepcopy(board)\n",
        "        extraBoard[i][j] = 2\n",
        "        util = min(util, max_algo(deepcopy(extraBoard), depth+1))\n",
        "  return util "
      ],
      "execution_count": null,
      "outputs": []
    },
    {
      "cell_type": "code",
      "metadata": {
        "id": "b9iULqlljh5y",
        "colab_type": "code",
        "colab": {}
      },
      "source": [
        "def choosePCMove(dummy_board):\n",
        "  temp = []\n",
        "  for i in range(3):\n",
        "    for j in range(3):\n",
        "      if(dummy_board[i][j] == 0):\n",
        "        extraBoard = deepcopy(dummy_board)\n",
        "        extraBoard[i][j] = 1\n",
        "        util = min_algo(deepcopy(extraBoard), 1)\n",
        "        temp.append(PcPosTrack(i,j,util))\n",
        "  maximum = -100000\n",
        "  maxX = 0\n",
        "  maxY = 0\n",
        "  for x in temp:\n",
        "    #print(f\"Value of {x.val}\")\n",
        "    if(maximum < x.val):\n",
        "      maximum = x.val\n",
        "      maxX = x.x\n",
        "      maxY = x.y\n",
        "  \n",
        "  #for x in aaa:\n",
        "    #print(x.__dict__)\n",
        "  return maxX, maxY "
      ],
      "execution_count": null,
      "outputs": []
    },
    {
      "cell_type": "code",
      "metadata": {
        "id": "1HaEknOZjel3",
        "colab_type": "code",
        "colab": {}
      },
      "source": [
        "class PcPosTrack:\n",
        "\n",
        "  def __init__(self,x,y,val):\n",
        "    self.x = x\n",
        "    self.y = y\n",
        "    self.val = val"
      ],
      "execution_count": null,
      "outputs": []
    },
    {
      "cell_type": "code",
      "metadata": {
        "id": "dC6PsKJYjcsC",
        "colab_type": "code",
        "colab": {}
      },
      "source": [
        "def inputCheck(x,y,board):\n",
        "  if(x>2 or y>2 or x<0 or y<0): return False\n",
        "  if(board[x][y] != 0): return False\n",
        "  return True"
      ],
      "execution_count": null,
      "outputs": []
    },
    {
      "cell_type": "code",
      "metadata": {
        "id": "6CZG5OWdXT_U",
        "colab_type": "code",
        "colab": {}
      },
      "source": [
        "def printStatus(tictactoe_matrix,turns):\n",
        "  var = check_win(deepcopy(tictactoe_matrix))\n",
        "  for i in range(3):\n",
        "    for j in range(3):\n",
        "      if(tictactoe_matrix[i][j] == 2):\n",
        "        print(\"X\", end =\" \")\n",
        "      elif(tictactoe_matrix[i][j] == 1):\n",
        "        print(\"O\", end =\" \")\n",
        "      elif(tictactoe_matrix[i][j] == 0):\n",
        "        print(\".\", end =\" \")\n",
        "    print()\n",
        "\n",
        "  if(var == 2):                               # player win check                            # \n",
        "    print(\"Game over\"+o.linesep+\"Human Wins\")\n",
        "    return True\n",
        "  if(var == 1):                               # comp win check\n",
        "    if(not humanTurn):                        \n",
        "      print(\"Game over\"+o.linesep+\"Computer Wins\")\n",
        "      return True\n",
        "  if(turnCounts == 9):                        # draw\n",
        "    print(\"Game over\"+o.linesep+\"Draw\")\n",
        "    return True\n",
        "  return False"
      ],
      "execution_count": null,
      "outputs": []
    },
    {
      "cell_type": "code",
      "metadata": {
        "id": "s2MjUyTUjPx2",
        "colab_type": "code",
        "colab": {}
      },
      "source": [
        "# main\n",
        "tictactoe_matrix = [[0 for x in range(3)] for y in range(3)]\n",
        "for i in range(3):\n",
        "  for j in range(3):\n",
        "    if(tictactoe_matrix[i][j] == 2):\n",
        "      print(\"X\", end =\" \")\n",
        "    elif(tictactoe_matrix[i][j] == 1):\n",
        "      print(\"O\", end =\" \")\n",
        "    elif(tictactoe_matrix[i][j] == 0):\n",
        "      print(\".\", end =\" \")\n",
        "  print()\n",
        "while(True):\n",
        "  axis_x = int(input(\"enter row:\"))           # player select position\n",
        "  axis_y = int(input(\"enter colomn:\"))        #           ''\n",
        "  if(not inputCheck(axis_x,axis_y,tictactoe_matrix)):\n",
        "    continue\n",
        "  print(\"Board after player's turn\")\n",
        "  tictactoe_matrix[axis_x][axis_y] = 2;\n",
        "  turnCounts = turnCounts + 1\n",
        "  if(printStatus(tictactoe_matrix,turnCounts)):\n",
        "    break\n",
        "  humanTurn = False\n",
        "  copy = deepcopy(tictactoe_matrix)\n",
        "  m,n = choosePCMove(copy) \n",
        "  tictactoe_matrix[m][n] = 1;\n",
        "  turnCounts = turnCounts + 1\n",
        "  print(\"Board after computer's turn\")\n",
        "  if(printStatus(tictactoe_matrix,turnCounts)):\n",
        "    break"
      ],
      "execution_count": null,
      "outputs": []
    }
  ]
}