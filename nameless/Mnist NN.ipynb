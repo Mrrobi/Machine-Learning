{
  "nbformat": 4,
  "nbformat_minor": 0,
  "metadata": {
    "colab": {
      "name": "RAM 25 GB",
      "provenance": [],
      "collapsed_sections": [],
      "machine_shape": "hm",
      "include_colab_link": true
    },
    "kernelspec": {
      "name": "python3",
      "display_name": "Python 3"
    },
    "accelerator": "GPU"
  },
  "cells": [
    {
      "cell_type": "markdown",
      "metadata": {
        "id": "view-in-github",
        "colab_type": "text"
      },
      "source": [
        "<a href=\"https://colab.research.google.com/github/Mrrobi/Machine-Learning/blob/master/nameless/Mnist%20NN.ipynb\" target=\"_parent\"><img src=\"https://colab.research.google.com/assets/colab-badge.svg\" alt=\"Open In Colab\"/></a>"
      ]
    },
    {
      "cell_type": "code",
      "metadata": {
        "id": "87T5BetZQYQv",
        "colab_type": "code",
        "colab": {}
      },
      "source": [
        "import tensorflow as tf\n",
        "from keras.datasets import mnist\n",
        "# let's keep our keras backend tensorflow quiet\n",
        "import os\n",
        "os.environ['TF_CPP_MIN_LOG_LEVEL']='3'\n",
        "# for testing on CPU\n",
        "#os.environ['CUDA_VISIBLE_DEVICES'] = ''"
      ],
      "execution_count": 54,
      "outputs": []
    },
    {
      "cell_type": "code",
      "metadata": {
        "id": "Cet8pYSCX5s4",
        "colab_type": "code",
        "colab": {}
      },
      "source": [
        "# keras imports for the dataset and building our neural network\n",
        "from keras.datasets import mnist\n",
        "from keras.models import Sequential, load_model\n",
        "from keras.layers.core import Dense, Dropout, Activation\n",
        "from keras.utils import np_utils\n",
        "\n",
        "# imports for array-handling and plotting\n",
        "import numpy as np\n",
        "import matplotlib\n",
        "matplotlib.use('agg')\n",
        "import matplotlib.pyplot as plt"
      ],
      "execution_count": 55,
      "outputs": []
    },
    {
      "cell_type": "code",
      "metadata": {
        "id": "srXWBOcpYI4B",
        "colab_type": "code",
        "colab": {
          "base_uri": "https://localhost:8080/",
          "height": 34
        },
        "outputId": "c2a71b2d-911c-46a4-b8bf-91676718521b"
      },
      "source": [
        "(X_train, y_train), (X_test, y_test) = mnist.load_data()\n",
        "\n",
        "print(X_train.shape)"
      ],
      "execution_count": 56,
      "outputs": [
        {
          "output_type": "stream",
          "text": [
            "(60000, 28, 28)\n"
          ],
          "name": "stdout"
        }
      ]
    },
    {
      "cell_type": "code",
      "metadata": {
        "id": "3xk6y7_JYT_F",
        "colab_type": "code",
        "colab": {
          "base_uri": "https://localhost:8080/",
          "height": 283
        },
        "outputId": "3afaaf67-9601-4c58-b379-8fb329df9055"
      },
      "source": [
        "fig = plt.figure()\n",
        "for i in range(7):\n",
        "  plt.subplot(3,3,i+1)\n",
        "  plt.tight_layout()\n",
        "  plt.imshow(X_train[i], cmap='gray', interpolation='none')\n",
        "  plt.title(\"Digit: {}\".format(y_train[i]))\n",
        "  plt.xticks([])\n",
        "  plt.yticks([])\n",
        "fig"
      ],
      "execution_count": 57,
      "outputs": [
        {
          "output_type": "execute_result",
          "data": {
            "image/png": "[encoded data removed]",
            "text/plain": [
              "<Figure size 432x288 with 7 Axes>"
            ]
          },
          "metadata": {
            "tags": []
          },
          "execution_count": 57
        }
      ]
    },
    {
      "cell_type": "code",
      "metadata": {
        "id": "worzS2bqavC8",
        "colab_type": "code",
        "colab": {}
      },
      "source": [
        ""
      ],
      "execution_count": 57,
      "outputs": []
    },
    {
      "cell_type": "code",
      "metadata": {
        "id": "7l1lkPa7YrFo",
        "colab_type": "code",
        "colab": {
          "base_uri": "https://localhost:8080/",
          "height": 85
        },
        "outputId": "8c990a0f-e918-468f-a561-c12849c0d70c"
      },
      "source": [
        "# let's print the shape before we reshape and normalize\n",
        "print(\"X_train shape\", X_train.shape)\n",
        "print(\"y_train shape\", y_train.shape)\n",
        "print(\"X_test shape\", X_test.shape)\n",
        "print(\"y_test shape\", y_test.shape)\n",
        "\n",
        "# building the input vector from the 28x28 pixels\n",
        "X_train = X_train.reshape(60000, 784)\n",
        "X_test = X_test.reshape(10000, 784)\n",
        "X_train = X_train.astype('float32')\n",
        "X_test = X_test.astype('float32')\n",
        "\n",
        "\n",
        "# normalizing the data to help with the training\n",
        "X_train /= 255\n",
        "X_test /= 255"
      ],
      "execution_count": 58,
      "outputs": [
        {
          "output_type": "stream",
          "text": [
            "X_train shape (60000, 28, 28)\n",
            "y_train shape (60000,)\n",
            "X_test shape (10000, 28, 28)\n",
            "y_test shape (10000,)\n"
          ],
          "name": "stdout"
        }
      ]
    },
    {
      "cell_type": "code",
      "metadata": {
        "id": "q8aUkvjuZZ5x",
        "colab_type": "code",
        "colab": {
          "base_uri": "https://localhost:8080/",
          "height": 51
        },
        "outputId": "71f2f6cf-0dde-41b6-beb7-1c3157b336e0"
      },
      "source": [
        "# one-hot encoding using keras' numpy-related utilities\n",
        "n_classes = 10\n",
        "print(\"Shape before one-hot encoding: \", y_train.shape)\n",
        "Y_train = np_utils.to_categorical(y_train, n_classes)\n",
        "Y_test = np_utils.to_categorical(y_test, n_classes)\n",
        "print(\"Shape after one-hot encoding: \", Y_train.shape)"
      ],
      "execution_count": 59,
      "outputs": [
        {
          "output_type": "stream",
          "text": [
            "Shape before one-hot encoding:  (60000,)\n",
            "Shape after one-hot encoding:  (60000, 10)\n"
          ],
          "name": "stdout"
        }
      ]
    },
    {
      "cell_type": "code",
      "metadata": {
        "id": "Tj4GQhXvMQrc",
        "colab_type": "code",
        "colab": {}
      },
      "source": [
        "model = tf.keras.models.Sequential([\n",
        "    tf.keras.layers.Flatten(),\n",
        "    # 512 neuron hidden layer\n",
        "    tf.keras.layers.Dense(256, activation='relu'),\n",
        "    tf.keras.layers.Dense(256, activation='relu'),\n",
        "    tf.keras.layers.Dense(256, activation='relu'),\n",
        "    tf.keras.layers.Dense(256, activation='relu'),\n",
        "    # Only 1 output neuron. It will contain a value from 0-1 where 0 for 1 class ('horses') and 1 for the other ('humans')\n",
        "    tf.keras.layers.Dense(10, activation='softmax')\n",
        "])"
      ],
      "execution_count": 60,
      "outputs": []
    },
    {
      "cell_type": "code",
      "metadata": {
        "id": "ldfW-nVbZx3p",
        "colab_type": "code",
        "colab": {}
      },
      "source": [
        "model.compile(loss='categorical_crossentropy', metrics=['accuracy'], optimizer='adam')"
      ],
      "execution_count": 61,
      "outputs": []
    },
    {
      "cell_type": "code",
      "metadata": {
        "id": "HEoC1YpJapmF",
        "colab_type": "code",
        "colab": {
          "base_uri": "https://localhost:8080/",
          "height": 998
        },
        "outputId": "12d31747-a6ae-4d1f-a24d-03927ac2db98"
      },
      "source": [
        "# training the model and saving metrics in history\n",
        "history = model.fit(X_train, Y_train,\n",
        "          batch_size=128, epochs=20,\n",
        "          verbose=2,\n",
        "          validation_data=(X_test, Y_test))\n",
        "\n",
        "# saving the model\n",
        "save_dir = \"/content/sample_data\"\n",
        "model_name = 'keras_mnist.h5'\n",
        "model_path = os.path.join(save_dir, model_name)\n",
        "model.save(model_path)\n",
        "print('Saved trained model at %s ' % model_path)\n",
        "\n",
        "# plotting the metrics\n",
        "fig = plt.figure()\n",
        "plt.subplot(2,1,1)\n",
        "plt.plot(history.history['accuracy'])\n",
        "plt.plot(history.history['val_accuracy'])\n",
        "plt.title('model accuracy')\n",
        "plt.ylabel('accuracy')\n",
        "plt.xlabel('epoch')\n",
        "plt.legend(['train', 'test'], loc='lower right')\n",
        "\n",
        "plt.subplot(2,1,2)\n",
        "plt.plot(history.history['loss'])\n",
        "plt.plot(history.history['val_loss'])\n",
        "plt.title('model loss')\n",
        "plt.ylabel('loss')\n",
        "plt.xlabel('epoch')\n",
        "plt.legend(['train', 'test'], loc='upper right')\n",
        "\n",
        "plt.tight_layout()\n",
        "\n",
        "fig"
      ],
      "execution_count": 62,
      "outputs": [
        {
          "output_type": "stream",
          "text": [
            "Epoch 1/20\n",
            "469/469 - 2s - loss: 0.2466 - accuracy: 0.9279 - val_loss: 0.1256 - val_accuracy: 0.9596\n",
            "Epoch 2/20\n",
            "469/469 - 1s - loss: 0.0928 - accuracy: 0.9722 - val_loss: 0.0847 - val_accuracy: 0.9735\n",
            "Epoch 3/20\n",
            "469/469 - 1s - loss: 0.0638 - accuracy: 0.9796 - val_loss: 0.0824 - val_accuracy: 0.9740\n",
            "Epoch 4/20\n",
            "469/469 - 1s - loss: 0.0463 - accuracy: 0.9856 - val_loss: 0.0899 - val_accuracy: 0.9741\n",
            "Epoch 5/20\n",
            "469/469 - 1s - loss: 0.0411 - accuracy: 0.9870 - val_loss: 0.0793 - val_accuracy: 0.9761\n",
            "Epoch 6/20\n",
            "469/469 - 1s - loss: 0.0316 - accuracy: 0.9903 - val_loss: 0.1110 - val_accuracy: 0.9699\n",
            "Epoch 7/20\n",
            "469/469 - 1s - loss: 0.0283 - accuracy: 0.9910 - val_loss: 0.0890 - val_accuracy: 0.9764\n",
            "Epoch 8/20\n",
            "469/469 - 1s - loss: 0.0276 - accuracy: 0.9907 - val_loss: 0.0979 - val_accuracy: 0.9766\n",
            "Epoch 9/20\n",
            "469/469 - 1s - loss: 0.0210 - accuracy: 0.9931 - val_loss: 0.0770 - val_accuracy: 0.9823\n",
            "Epoch 10/20\n",
            "469/469 - 1s - loss: 0.0205 - accuracy: 0.9934 - val_loss: 0.0886 - val_accuracy: 0.9786\n",
            "Epoch 11/20\n",
            "469/469 - 1s - loss: 0.0190 - accuracy: 0.9941 - val_loss: 0.0876 - val_accuracy: 0.9777\n",
            "Epoch 12/20\n",
            "469/469 - 1s - loss: 0.0182 - accuracy: 0.9942 - val_loss: 0.0835 - val_accuracy: 0.9814\n",
            "Epoch 13/20\n",
            "469/469 - 1s - loss: 0.0163 - accuracy: 0.9949 - val_loss: 0.0890 - val_accuracy: 0.9796\n",
            "Epoch 14/20\n",
            "469/469 - 1s - loss: 0.0139 - accuracy: 0.9956 - val_loss: 0.0963 - val_accuracy: 0.9788\n",
            "Epoch 15/20\n",
            "469/469 - 1s - loss: 0.0135 - accuracy: 0.9957 - val_loss: 0.0844 - val_accuracy: 0.9807\n",
            "Epoch 16/20\n",
            "469/469 - 1s - loss: 0.0157 - accuracy: 0.9950 - val_loss: 0.0821 - val_accuracy: 0.9800\n",
            "Epoch 17/20\n",
            "469/469 - 1s - loss: 0.0091 - accuracy: 0.9971 - val_loss: 0.1116 - val_accuracy: 0.9774\n",
            "Epoch 18/20\n",
            "469/469 - 1s - loss: 0.0110 - accuracy: 0.9964 - val_loss: 0.1073 - val_accuracy: 0.9805\n",
            "Epoch 19/20\n",
            "469/469 - 1s - loss: 0.0118 - accuracy: 0.9966 - val_loss: 0.0936 - val_accuracy: 0.9812\n",
            "Epoch 20/20\n",
            "469/469 - 1s - loss: 0.0095 - accuracy: 0.9970 - val_loss: 0.1002 - val_accuracy: 0.9805\n",
            "Saved trained model at /content/sample_data/keras_mnist.h5 \n"
          ],
          "name": "stdout"
        },
        {
          "output_type": "execute_result",
          "data": {
            "image/png": "[encoded data removed]",
            "text/plain": [
              "<Figure size 432x288 with 2 Axes>"
            ]
          },
          "metadata": {
            "tags": []
          },
          "execution_count": 62
        }
      ]
    }
  ]
}